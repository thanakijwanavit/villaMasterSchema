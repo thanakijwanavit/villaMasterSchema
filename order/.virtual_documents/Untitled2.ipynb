pip install villa-digioadapter-jirawutchayapong


import digioAdapter as da


a =da.digioclient.DigioAdapter()


inp ={
          "username":"test",
          "password":"test123"
        }
type(inp)
a.authen(inp)



