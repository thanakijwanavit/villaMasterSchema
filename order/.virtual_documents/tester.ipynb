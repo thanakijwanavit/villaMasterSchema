pip install nicHelper


import jsonschema, yaml, json, unittest
from jsonschema.exceptions import ValidationError
from nicHelper.wrappers import add_method


dataFolder = 'testData' # data folder


with open(f'./order.yaml', 'r')as f: # load the schema
    schema = yaml.load(f.read(), Loader=yaml.FullLoader)

print(schema)


class TestValidation(unittest.TestCase):
    def setUp(self):
        with open(f'./order.yaml', 'r')as f: # load the schema
            self.schema = yaml.load(f.read(), Loader=yaml.FullLoader)
        self.dataFolder = 'testData' # data folder


@add_method(TestValidation)
def testPassingGoodSample(self):
    # good sample
    with open(f'./{self.dataFolder}/goodSample.json','r')as f:
        goodItem = json.load(f)
    
    try:
        jsonschema.validate(goodItem,self.schema)
    except ValidationError as e:
        print(e)


@add_method(TestValidation)
def testWrongType(self):
    with open(f'./{self.dataFolder}/wrongType.json','r')as f:
        badItem = json.load(f)
    with self.assertRaises(ValidationError):
        jsonschema.validate(badItem,self.schema)
    try:
        jsonschema.validate(badItem,self.schema)
    except ValidationError as e:
        self.assertTrue("1234 is not of type 'string'" in e.message, 
                        f'wrong error message{e.message}, should be 1234 is not type string')


@add_method(TestValidation)
def testExtraColumn(self):
    with open(f'./{self.dataFolder}/extraCol.json','r')as f:
        badItem = json.load(f)
    with self.assertRaises(ValidationError):
        jsonschema.validate(badItem,self.schema)
    try:
        jsonschema.validate(badItem,self.schema)
    except ValidationError as e:
        self.assertTrue('Additional properties are not allowed' in e.message)


suite = unittest.defaultTestLoader.loadTestsFromTestCase(TestValidation)
unittest.TextTestRunner().run(suite)


try:
    get_ipython().getoutput("jupyter nbconvert --to script tester.ipynb")
except:
    pass



