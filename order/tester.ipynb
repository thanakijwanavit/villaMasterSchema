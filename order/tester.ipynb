{
 "cells": [
  {
   "cell_type": "code",
   "execution_count": 1,
   "id": "ea964be5",
   "metadata": {},
   "outputs": [
    {
     "name": "stdout",
     "output_type": "stream",
     "text": [
      "Requirement already satisfied: nicHelper in /opt/homebrew/Caskroom/miniconda/base/envs/py38/lib/python3.8/site-packages (0.0.26)\n",
      "Requirement already satisfied: boto3 in /opt/homebrew/Caskroom/miniconda/base/envs/py38/lib/python3.8/site-packages (from nicHelper) (1.17.38)\n",
      "Requirement already satisfied: requests in /opt/homebrew/Caskroom/miniconda/base/envs/py38/lib/python3.8/site-packages (from nicHelper) (2.25.1)\n",
      "Requirement already satisfied: pyyaml in /opt/homebrew/Caskroom/miniconda/base/envs/py38/lib/python3.8/site-packages (from nicHelper) (5.4.1)\n",
      "Requirement already satisfied: genson in /opt/homebrew/Caskroom/miniconda/base/envs/py38/lib/python3.8/site-packages (from nicHelper) (1.2.2)\n",
      "Requirement already satisfied: Pillow in /opt/homebrew/Caskroom/miniconda/base/envs/py38/lib/python3.8/site-packages (from nicHelper) (8.1.0)\n",
      "Requirement already satisfied: ujson in /opt/homebrew/Caskroom/miniconda/base/envs/py38/lib/python3.8/site-packages (from nicHelper) (4.0.2)\n",
      "Requirement already satisfied: jmespath<1.0.0,>=0.7.1 in /opt/homebrew/Caskroom/miniconda/base/envs/py38/lib/python3.8/site-packages (from boto3->nicHelper) (0.10.0)\n",
      "Requirement already satisfied: botocore<1.21.0,>=1.20.38 in /opt/homebrew/Caskroom/miniconda/base/envs/py38/lib/python3.8/site-packages (from boto3->nicHelper) (1.20.38)\n",
      "Requirement already satisfied: s3transfer<0.4.0,>=0.3.0 in /opt/homebrew/Caskroom/miniconda/base/envs/py38/lib/python3.8/site-packages (from boto3->nicHelper) (0.3.4)\n",
      "Requirement already satisfied: urllib3<1.27,>=1.25.4 in /opt/homebrew/Caskroom/miniconda/base/envs/py38/lib/python3.8/site-packages (from botocore<1.21.0,>=1.20.38->boto3->nicHelper) (1.26.4)\n",
      "Requirement already satisfied: python-dateutil<3.0.0,>=2.1 in /opt/homebrew/Caskroom/miniconda/base/envs/py38/lib/python3.8/site-packages (from botocore<1.21.0,>=1.20.38->boto3->nicHelper) (2.8.1)\n",
      "Requirement already satisfied: six>=1.5 in /opt/homebrew/Caskroom/miniconda/base/envs/py38/lib/python3.8/site-packages (from python-dateutil<3.0.0,>=2.1->botocore<1.21.0,>=1.20.38->boto3->nicHelper) (1.15.0)\n",
      "Requirement already satisfied: certifi>=2017.4.17 in /opt/homebrew/Caskroom/miniconda/base/envs/py38/lib/python3.8/site-packages (from requests->nicHelper) (2020.12.5)\n",
      "Requirement already satisfied: idna<3,>=2.5 in /opt/homebrew/Caskroom/miniconda/base/envs/py38/lib/python3.8/site-packages (from requests->nicHelper) (2.10)\n",
      "Requirement already satisfied: chardet<5,>=3.0.2 in /opt/homebrew/Caskroom/miniconda/base/envs/py38/lib/python3.8/site-packages (from requests->nicHelper) (4.0.0)\n",
      "Note: you may need to restart the kernel to use updated packages.\n"
     ]
    }
   ],
   "source": [
    "pip install nicHelper"
   ]
  },
  {
   "cell_type": "code",
   "execution_count": 4,
   "id": "77138562",
   "metadata": {
    "scrolled": true
   },
   "outputs": [],
   "source": [
    "import jsonschema, yaml, json, unittest\n",
    "from jsonschema.exceptions import ValidationError\n",
    "from nicHelper.wrappers import add_method"
   ]
  },
  {
   "cell_type": "markdown",
   "id": "b5536578",
   "metadata": {},
   "source": [
    "# Unit test for schema"
   ]
  },
  {
   "cell_type": "markdown",
   "id": "390be780",
   "metadata": {},
   "source": [
    "## define test data folder"
   ]
  },
  {
   "cell_type": "code",
   "execution_count": 5,
   "id": "466187c4",
   "metadata": {},
   "outputs": [],
   "source": [
    "dataFolder = 'testData' # data folder"
   ]
  },
  {
   "cell_type": "markdown",
   "id": "7004e730",
   "metadata": {},
   "source": [
    "## load schema"
   ]
  },
  {
   "cell_type": "code",
   "execution_count": 6,
   "id": "2cba6e04",
   "metadata": {},
   "outputs": [
    {
     "name": "stdout",
     "output_type": "stream",
     "text": [
      "{'$schema': 'http://json-schema.org/schema#', 'additionalProperties': False, 'properties': {'pickingStatus': {'type': 'string', 'enum': ['picked', 'pending', 'cancelled']}, 'basketName': {'type': 'string'}, 'basketId': {'type': 'string'}, 'branchId': {'type': 'string'}, 'orderId': {'type': 'string'}, 'orderDate': {'type': 'number'}, 'ownerId': {'type': 'string'}, 'isPaid': {'type': 'boolean'}, 'paymentId': {'type': ['string', 'null']}, 'subTotal': {'type': ['number']}, 'shippingAmount': {'type': ['number']}, 'discountAmount': {'type': ['number']}, 'grandTotal': {'type': ['number']}, 'totalPaid': {'type': ['number']}, 'requestTaxInvoice': {'description': 'checkbox on checkout page', 'type': 'boolean', 'default': False}, 'requestSubstitute': {'description': 'checkbox on checkout page', 'type': 'boolean', 'default': False}, 'specialComment': {'description': 'special comment text field on checkout page', 'type': ['string', 'null']}, 'couponCode': {'type': ['string', 'null']}, 'shipping': {'type': 'object', 'properties': {'scheduleList': {'items': {'type': ['object', 'null'], 'properties': {'scheduleId': {'description': 'match between product and schedule group', 'type': 'number'}, 'mode': {'description': '', 'type': ['string'], 'enum': ['REGULAR', 'EXPRESS', 'PREORDER_RELATIVE', 'PREORDER_FIXED']}, 'dateTime': {'description': 'ISO 8601 date and time string format YYYY-MM-DDThh:mm:ss.sssZ. compatible with AWSDateTime', 'type': 'string'}, 'deliveryFee': {'description': 'Per schedule delivery fee, example: regular delivery fee is 95 baht, preorder large product cost 150 baht.', 'type': ['number', 'null']}}}}, 'shippingFirstName': {'type': 'string'}, 'shippingLastName': {'type': 'string'}, 'shippingAddress': {'type': 'string'}, 'shippingSubDistrict': {'type': 'string'}, 'shippingDistrict': {'type': 'string'}, 'shippingProvince': {'type': 'string'}, 'shippingPostcode': {'type': 'string'}, 'shippingPhone': {'type': 'string'}, 'shippingDate': {'type': 'number'}, 'shippingType': {'description': 'DELIVERY or PICKUP', 'type': ['string', 'null'], 'enum': ['DELIVERY', 'PICKUP', None]}}}, 'payment': {'type': 'object', 'description': '\"object which should be provided by the payment app\"\\n', 'properties': {'billingName': {'type': 'string'}, 'billingAddress': {'type': 'string'}, 'billingSubDistrict': {'type': 'string'}, 'billingDistrict': {'type': 'string'}, 'billingProvince': {'type': 'string'}, 'billingPostcode': {'type': 'string'}, 'billingPhone': {'type': 'string'}, 'customerFirstName': {'type': 'string'}, 'customerLastName': {'type': 'string'}, 'customerEmail': {'type': 'string'}, 'status': {'type': 'string'}, 'paymentLog': {'type': 'array', 'items': {'type': 'string'}}, 'remark': {'type': 'string'}, 'deliveryFee': {'type': ['number', 'null']}, 'grandTotal': {'type': 'number'}}}, 'productList': {'items': {'properties': {'pickedQty': {'type': 'integer'}, 'productName': {'type': 'string'}, 'quantity': {'type': 'integer'}, 'cprcode': {'type': 'integer'}, 'originalPrice': {'type': 'number'}, 'price': {'description': 'Price per Unit', 'type': 'number'}, 'settlementPrice': {'description': 'subTotal = price * quantity', 'type': 'number'}, 'discount': {'description': 'discount amount', 'type': 'number'}, 'rowTotal': {'description': 'Subtotal - discount', 'type': 'number'}, 'remark': {'description': 'Per product remark', 'type': ['string', 'null']}, 'isPreOrder': {'description': 'preorder flag is preOrder=1 , is not preOrder = 0 ', 'type': ['boolean', 0]}, 'scheduleId': {'description': 'match between product and schedule group', 'type': 'number'}}, 'required': ['quantity', 'cprcode'], 'type': 'object'}, 'type': 'array'}}, 'required': ['basketId', 'orderId', 'ownerId'], 'type': 'object'}\n"
     ]
    }
   ],
   "source": [
    "with open(f'./order.yaml', 'r')as f: # load the schema\n",
    "    schema = yaml.load(f.read(), Loader=yaml.FullLoader)\n",
    "\n",
    "print(schema)"
   ]
  },
  {
   "cell_type": "markdown",
   "id": "4a065814",
   "metadata": {},
   "source": [
    "## create unit test object"
   ]
  },
  {
   "cell_type": "code",
   "execution_count": 17,
   "id": "e588efb7",
   "metadata": {},
   "outputs": [],
   "source": [
    "class TestValidation(unittest.TestCase):\n",
    "    def setUp(self):\n",
    "        with open(f'./order.yaml', 'r')as f: # load the schema\n",
    "            self.schema = yaml.load(f.read(), Loader=yaml.FullLoader)\n",
    "        self.dataFolder = 'testData' # data folder"
   ]
  },
  {
   "cell_type": "markdown",
   "id": "dd6427db",
   "metadata": {},
   "source": [
    "### good sample case"
   ]
  },
  {
   "cell_type": "code",
   "execution_count": 8,
   "id": "1bd5e55e",
   "metadata": {},
   "outputs": [],
   "source": [
    "@add_method(TestValidation)\n",
    "def testPassingGoodSample(self):\n",
    "    # good sample\n",
    "    with open(f'./{self.dataFolder}/goodSample.json','r')as f:\n",
    "        goodItem = json.load(f)\n",
    "    \n",
    "    try:\n",
    "        jsonschema.validate(goodItem,self.schema)\n",
    "    except ValidationError as e:\n",
    "        print(e)"
   ]
  },
  {
   "cell_type": "markdown",
   "id": "e5e76b94",
   "metadata": {},
   "source": [
    "### bad case"
   ]
  },
  {
   "cell_type": "markdown",
   "id": "9b71ac68",
   "metadata": {},
   "source": [
    "#### wrong type"
   ]
  },
  {
   "cell_type": "code",
   "execution_count": 6,
   "id": "c01b4c3d",
   "metadata": {},
   "outputs": [],
   "source": [
    "@add_method(TestValidation)\n",
    "def testWrongType(self):\n",
    "    with open(f'./{self.dataFolder}/wrongType.json','r')as f:\n",
    "        badItem = json.load(f)\n",
    "    with self.assertRaises(ValidationError):\n",
    "        jsonschema.validate(badItem,self.schema)\n",
    "    try:\n",
    "        jsonschema.validate(badItem,self.schema)\n",
    "    except ValidationError as e:\n",
    "        self.assertTrue(\"1234 is not of type 'string'\" in e.message, \n",
    "                        f'wrong error message{e.message}, should be 1234 is not type string')"
   ]
  },
  {
   "cell_type": "markdown",
   "id": "8321a2e4",
   "metadata": {},
   "source": [
    "#### extraneous column"
   ]
  },
  {
   "cell_type": "code",
   "execution_count": 7,
   "id": "495ac952",
   "metadata": {},
   "outputs": [],
   "source": [
    "@add_method(TestValidation)\n",
    "def testExtraColumn(self):\n",
    "    with open(f'./{self.dataFolder}/extraCol.json','r')as f:\n",
    "        badItem = json.load(f)\n",
    "    with self.assertRaises(ValidationError):\n",
    "        jsonschema.validate(badItem,self.schema)\n",
    "    try:\n",
    "        jsonschema.validate(badItem,self.schema)\n",
    "    except ValidationError as e:\n",
    "        self.assertTrue('Additional properties are not allowed' in e.message)"
   ]
  },
  {
   "cell_type": "code",
   "execution_count": 8,
   "id": "f998c1ce",
   "metadata": {},
   "outputs": [
    {
     "name": "stderr",
     "output_type": "stream",
     "text": [
      "...\n",
      "----------------------------------------------------------------------\n",
      "Ran 3 tests in 0.080s\n",
      "\n",
      "OK\n"
     ]
    },
    {
     "data": {
      "text/plain": [
       "<unittest.runner.TextTestResult run=3 errors=0 failures=0>"
      ]
     },
     "execution_count": 8,
     "metadata": {},
     "output_type": "execute_result"
    }
   ],
   "source": [
    "suite = unittest.defaultTestLoader.loadTestsFromTestCase(TestValidation)\n",
    "unittest.TextTestRunner().run(suite)"
   ]
  },
  {
   "cell_type": "code",
   "execution_count": 9,
   "id": "3ca662c5",
   "metadata": {},
   "outputs": [
    {
     "name": "stdout",
     "output_type": "stream",
     "text": [
      "Traceback (most recent call last):\n",
      "  File \"/opt/homebrew/Caskroom/miniconda/base/bin/jupyter-nbconvert\", line 8, in <module>\n",
      "    sys.exit(main())\n",
      "  File \"/opt/homebrew/Caskroom/miniconda/base/lib/python3.8/site-packages/jupyter_core/application.py\", line 254, in launch_instance\n",
      "    return super(JupyterApp, cls).launch_instance(argv=argv, **kwargs)\n",
      "  File \"/opt/homebrew/Caskroom/miniconda/base/lib/python3.8/site-packages/traitlets/config/application.py\", line 845, in launch_instance\n",
      "    app.start()\n",
      "  File \"/opt/homebrew/Caskroom/miniconda/base/lib/python3.8/site-packages/nbconvert/nbconvertapp.py\", line 340, in start\n",
      "    self.convert_notebooks()\n",
      "  File \"/opt/homebrew/Caskroom/miniconda/base/lib/python3.8/site-packages/nbconvert/nbconvertapp.py\", line 500, in convert_notebooks\n",
      "    self.exporter = cls(config=self.config)\n",
      "  File \"/opt/homebrew/Caskroom/miniconda/base/lib/python3.8/site-packages/nbconvert/exporters/templateexporter.py\", line 263, in __init__\n",
      "    super(TemplateExporter, self).__init__(config=config, **kw)\n",
      "  File \"/opt/homebrew/Caskroom/miniconda/base/lib/python3.8/site-packages/nbconvert/exporters/exporter.py\", line 110, in __init__\n",
      "    self._init_preprocessors()\n",
      "  File \"/opt/homebrew/Caskroom/miniconda/base/lib/python3.8/site-packages/nbconvert/exporters/exporter.py\", line 264, in _init_preprocessors\n",
      "    self.register_preprocessor(preprocessor, enabled=True)\n",
      "  File \"/opt/homebrew/Caskroom/miniconda/base/lib/python3.8/site-packages/nbconvert/exporters/exporter.py\", line 225, in register_preprocessor\n",
      "    preprocessor_cls = import_item(preprocessor)\n",
      "  File \"/opt/homebrew/Caskroom/miniconda/base/lib/python3.8/site-packages/traitlets/utils/importstring.py\", line 30, in import_item\n",
      "    module = __import__(package, fromlist=[obj])\n",
      "ModuleNotFoundError: No module named 'jupyter_contrib_nbextensions'\n"
     ]
    }
   ],
   "source": [
    "try:\n",
    "    !jupyter nbconvert --to script tester.ipynb\n",
    "except:\n",
    "    pass"
   ]
  },
  {
   "cell_type": "code",
   "execution_count": null,
   "id": "c09f32d1",
   "metadata": {},
   "outputs": [],
   "source": []
  }
 ],
 "metadata": {
  "kernelspec": {
   "display_name": "Python 3",
   "language": "python",
   "name": "python3"
  },
  "language_info": {
   "codemirror_mode": {
    "name": "ipython",
    "version": 3
   },
   "file_extension": ".py",
   "mimetype": "text/x-python",
   "name": "python",
   "nbconvert_exporter": "python",
   "pygments_lexer": "ipython3",
   "version": "3.8.5"
  },
  "varInspector": {
   "cols": {
    "lenName": 16,
    "lenType": 16,
    "lenVar": 40
   },
   "kernels_config": {
    "python": {
     "delete_cmd_postfix": "",
     "delete_cmd_prefix": "del ",
     "library": "var_list.py",
     "varRefreshCmd": "print(var_dic_list())"
    },
    "r": {
     "delete_cmd_postfix": ") ",
     "delete_cmd_prefix": "rm(",
     "library": "var_list.r",
     "varRefreshCmd": "cat(var_dic_list()) "
    }
   },
   "types_to_exclude": [
    "module",
    "function",
    "builtin_function_or_method",
    "instance",
    "_Feature"
   ],
   "window_display": false
  }
 },
 "nbformat": 4,
 "nbformat_minor": 5
}
