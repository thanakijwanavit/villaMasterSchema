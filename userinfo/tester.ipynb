{
 "cells": [
  {
   "cell_type": "code",
   "execution_count": 1,
   "id": "relevant-terrorist",
   "metadata": {},
   "outputs": [],
   "source": [
    "import jsonschema, yaml, json, unittest, pytest\n",
    "from jsonschema import ValidationError, SchemaError\n",
    "from jsonschema.exceptions import ValidationError\n",
    "from nicHelper.wrappers import add_method\n"
   ]
  },
  {
   "cell_type": "markdown",
   "id": "eleven-mustang",
   "metadata": {},
   "source": [
    "# Unit test for schema"
   ]
  },
  {
   "cell_type": "markdown",
   "id": "behavioral-subject",
   "metadata": {},
   "source": [
    "## define test data folder"
   ]
  },
  {
   "cell_type": "code",
   "execution_count": 2,
   "id": "studied-ivory",
   "metadata": {},
   "outputs": [],
   "source": [
    "dataFolder = 'testData' # data folder"
   ]
  },
  {
   "cell_type": "markdown",
   "id": "consecutive-discussion",
   "metadata": {},
   "source": [
    "## load schema"
   ]
  },
  {
   "cell_type": "code",
   "execution_count": 3,
   "id": "ce2b0c59",
   "metadata": {},
   "outputs": [
    {
     "name": "stdout",
     "output_type": "stream",
     "text": [
      "json schema is valid\n",
      "required fields work properly\n"
     ]
    }
   ],
   "source": [
    "# load schema\n",
    "with open(f'./userinfo.yaml', 'r')as f: # load the schema\n",
    "    schema = yaml.load(f.read(), Loader=yaml.FullLoader)\n",
    "# load test object\n",
    "with open('./testData/goodData.json') as f:\n",
    "    testItem = json.loads(f.read())\n",
    "def test_schema():\n",
    "    ## validate\n",
    "    ### fail\n",
    "    with pytest.raises(ValidationError):\n",
    "        jsonschema.validate({},schema) # check that the json schema is valid\n",
    "    print('json schema is valid')\n",
    "    ### success\n",
    "    jsonschema.validate(testItem, schema)\n",
    "    print('required fields work properly')\n",
    "test_schema()"
   ]
  },
  {
   "cell_type": "markdown",
   "id": "local-simple",
   "metadata": {},
   "source": [
    "## create unit test object"
   ]
  },
  {
   "cell_type": "code",
   "execution_count": 4,
   "id": "innocent-fetish",
   "metadata": {},
   "outputs": [],
   "source": [
    "class TestValidation(unittest.TestCase):\n",
    "    def setUp(self):\n",
    "        with open(f'./order.yaml', 'r')as f: # load the schema\n",
    "            self.schema = yaml.load(f.read(), Loader=yaml.FullLoader)\n",
    "        self.dataFolder = 'testData' # data folder"
   ]
  },
  {
   "cell_type": "markdown",
   "id": "statutory-warehouse",
   "metadata": {},
   "source": [
    "### good sample case"
   ]
  },
  {
   "cell_type": "code",
   "execution_count": 5,
   "id": "employed-bachelor",
   "metadata": {},
   "outputs": [],
   "source": [
    "@add_method(TestValidation)\n",
    "def testPassingGoodSample(self):\n",
    "    # good sample\n",
    "    with open(f'./{self.dataFolder}/goodSample.json','r')as f:\n",
    "        goodItem = json.load(f)\n",
    "    \n",
    "    try:\n",
    "        jsonschema.validate(goodItem,self.schema)\n",
    "    except ValidationError as e:\n",
    "        print(e)"
   ]
  },
  {
   "cell_type": "markdown",
   "id": "regulated-geneva",
   "metadata": {},
   "source": [
    "### bad case"
   ]
  },
  {
   "cell_type": "markdown",
   "id": "disturbed-namibia",
   "metadata": {},
   "source": [
    "#### wrong type"
   ]
  },
  {
   "cell_type": "code",
   "execution_count": 6,
   "id": "level-organization",
   "metadata": {},
   "outputs": [],
   "source": [
    "@add_method(TestValidation)\n",
    "def testWrongType(self):\n",
    "    with open(f'./{self.dataFolder}/wrongType.json','r')as f:\n",
    "        badItem = json.load(f)\n",
    "    with self.assertRaises(ValidationError):\n",
    "        jsonschema.validate(badItem,self.schema)\n",
    "    try:\n",
    "        jsonschema.validate(badItem,self.schema)\n",
    "    except ValidationError as e:\n",
    "        self.assertTrue(\"1234 is not of type 'string'\" in e.message, \n",
    "                        f'wrong error message{e.message}, should be 1234 is not type string')"
   ]
  },
  {
   "cell_type": "markdown",
   "id": "automated-instrumentation",
   "metadata": {},
   "source": [
    "#### extraneous column"
   ]
  },
  {
   "cell_type": "code",
   "execution_count": 7,
   "id": "prostate-passion",
   "metadata": {},
   "outputs": [],
   "source": [
    "@add_method(TestValidation)\n",
    "def testExtraColumn(self):\n",
    "    with open(f'./{self.dataFolder}/extraCol.json','r')as f:\n",
    "        badItem = json.load(f)\n",
    "    with self.assertRaises(ValidationError):\n",
    "        jsonschema.validate(badItem,self.schema)\n",
    "    try:\n",
    "        jsonschema.validate(badItem,self.schema)\n",
    "    except ValidationError as e:\n",
    "        self.assertTrue('Additional properties are not allowed' in e.message)"
   ]
  },
  {
   "cell_type": "code",
   "execution_count": 8,
   "id": "legitimate-aggregate",
   "metadata": {},
   "outputs": [
    {
     "name": "stderr",
     "output_type": "stream",
     "text": [
      "...\n",
      "----------------------------------------------------------------------\n",
      "Ran 3 tests in 0.027s\n",
      "\n",
      "OK\n"
     ]
    },
    {
     "data": {
      "text/plain": [
       "<unittest.runner.TextTestResult run=3 errors=0 failures=0>"
      ]
     },
     "execution_count": 8,
     "metadata": {},
     "output_type": "execute_result"
    }
   ],
   "source": [
    "suite = unittest.defaultTestLoader.loadTestsFromTestCase(TestValidation)\n",
    "unittest.TextTestRunner().run(suite)"
   ]
  },
  {
   "cell_type": "code",
   "execution_count": 13,
   "id": "imported-deposit",
   "metadata": {},
   "outputs": [
    {
     "name": "stdout",
     "output_type": "stream",
     "text": [
      "[NbConvertApp] Converting notebook tester.ipynb to script\n",
      "[NbConvertApp] Writing 2283 bytes to tester.py\n"
     ]
    }
   ],
   "source": [
    "try:\n",
    "    !jupyter nbconvert --to script tester.ipynb\n",
    "except:\n",
    "    pass"
   ]
  },
  {
   "cell_type": "code",
   "execution_count": null,
   "id": "increasing-review",
   "metadata": {},
   "outputs": [],
   "source": []
  }
 ],
 "metadata": {
  "kernelspec": {
   "display_name": "Python 3",
   "language": "python",
   "name": "python3"
  },
  "language_info": {
   "codemirror_mode": {
    "name": "ipython",
    "version": 3
   },
   "file_extension": ".py",
   "mimetype": "text/x-python",
   "name": "python",
   "nbconvert_exporter": "python",
   "pygments_lexer": "ipython3",
   "version": "3.8.8"
  }
 },
 "nbformat": 4,
 "nbformat_minor": 5
}
